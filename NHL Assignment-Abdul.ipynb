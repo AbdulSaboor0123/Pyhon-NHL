{
 "cells": [
  {
   "cell_type": "code",
   "execution_count": 1,
   "id": "8476fc6c-148a-4087-98a2-87fa9c120d63",
   "metadata": {},
   "outputs": [
    {
     "data": {
      "text/plain": [
       "' Excercise 1:'"
      ]
     },
     "execution_count": 1,
     "metadata": {},
     "output_type": "execute_result"
    }
   ],
   "source": [
    "\" Excercise 1:\"  "
   ]
  },
  {
   "cell_type": "code",
   "execution_count": 2,
   "id": "3ca50b32-05ed-46be-b123-0514db18f3b9",
   "metadata": {},
   "outputs": [
    {
     "data": {
      "text/plain": [
       "' 1: Why does it not print the fruit at the correct index?\\nSets are unordered, so the order of elements is not fixed. You cannot access elements using an index because Python stores them in a way that optimizes performance rather than maintaining order. If you run the same code multiple times, the order of elements may change, making indexing unreliable\\n'"
      ]
     },
     "execution_count": 2,
     "metadata": {},
     "output_type": "execute_result"
    }
   ],
   "source": [
    "\"\"\" 1: Why does it not print the fruit at the correct index?\n",
    "Sets are unordered, so the order of elements is not fixed. You cannot access elements using an index because Python stores them in a way that optimizes performance rather than maintaining order. If you run the same code multiple times, the order of elements may change, making indexing unreliable\n",
    "\"\"\""
   ]
  },
  {
   "cell_type": "code",
   "execution_count": 3,
   "id": "3d603d28-bbc5-4501-8cda-e23c0ae3ac20",
   "metadata": {},
   "outputs": [
    {
     "name": "stdout",
     "output_type": "stream",
     "text": [
      "kiwi\n",
      "orange\n",
      "strawberry\n"
     ]
    }
   ],
   "source": [
    "\"\"\"fruits_set = {\"apple\", \"orange\", \"melon\", \"kiwi\", \"strawberry\"}\n",
    "print(fruits_set)\n",
    "\n",
    "2: How could this be fixed?\n",
    "Convert the set into a list and sort it before accessing elements by index to make the order predictable\n",
    "\"\"\"\n",
    "from typing import Set \n",
    "\n",
    "def get_fruit_name(fruit_id: int, fruits: set[str]) -> str:\n",
    "    fruit_list = sorted(fruits)  \n",
    "    if 0 <= fruit_id < len(fruit_list):  \n",
    "        return fruit_list[fruit_id]\n",
    "    else:\n",
    "        raise IndexError(\"Invalid fruit_id: Out of range\")\n",
    "fruits_set = {\"apple\", \"orange\", \"melon\", \"kiwi\", \"strawberry\"}\n",
    "name1 = get_fruit_name(1, fruits_set)\n",
    "name3 = get_fruit_name(3, fruits_set)\n",
    "name4 = get_fruit_name(4, fruits_set)\n",
    "\n",
    "print(name1)\n",
    "print(name3)  \n",
    "print(name4)  \n",
    "\n"
   ]
  },
  {
   "cell_type": "code",
   "execution_count": 5,
   "id": "24e0eed5-ba27-441b-81b3-594e02d72a08",
   "metadata": {},
   "outputs": [
    {
     "name": "stdout",
     "output_type": "stream",
     "text": [
      "[[ 5 10  6 15  0]\n",
      " [ 3 11  6 13  0]\n",
      " [ 3  5  6 13  1]\n",
      " [ 4  4  6 13  1]\n",
      " [ 5  6 16 13  1]]\n"
     ]
    }
   ],
   "source": [
    "\"\"\"Explanation 2:  1   Can you spot the obvious error?\n",
    "\n",
    "coords[:, 0], coords[:, 1], coords[:, 2], coords[:, 3] = coords[:, 1], coords[:, 1], coords[:, 3], coords[:, 2]\n",
    "\n",
    "The issue here is that the values are being overwritten before they can be swapped correctly.\n",
    "\n",
    "coords[:, 0] = coords[:, 1] correctly moves y1 to x1.\n",
    "However, coords[:, 1] = coords[:, 1] does nothing because it assigns a value to itself.\n",
    "coords[:, 2] = coords[:, 3] correctly moves y2 to x2.\n",
    "But by the time coords[:, 3] = coords[:, 2] runs, coords[:, 2] has already been changed, so it does not hold its original value anymore\n",
    "\n",
    "This results in incorrect coordinate values because some of them are lost or incorrectly assigned. A proper swap requires using a temporary variable or swapping in a way that avoids overwriting values too soon.\n",
    "\n",
    "For example: \n",
    "coords = np.array([[10, 5, 15, 6, 0]])  # (x1, y1, x2, y2, class_id)\n",
    "[[5, 10, 6, 15, 0]]  # (y1, x1, y2, x2, class_id) Correct Swap\n",
    "[[5, 5, 6, 15, 0]]  # Wrong values! due to overwrite \n",
    "\"\"\"\n",
    "\"\"\" 2   After fixing the obvious error it is still wrong, how can this be fixed? \"\"\"\n",
    "\n",
    "import numpy as np\n",
    "\n",
    "def swap(coords: np.ndarray):\n",
    "    coords = coords.copy() \n",
    "    coords[:, [0, 1, 2, 3]] = coords[:, [1, 0, 3, 2]] \n",
    "    return coords\n",
    "\n",
    "coords = np.array([[10, 5, 15, 6, 0],\n",
    "                   [11, 3, 13, 6, 0],\n",
    "                   [5, 3, 13, 6, 1],\n",
    "                   [4, 4, 13, 6, 1],\n",
    "                   [6, 5, 13, 16, 1]])\n",
    "\n",
    "swapped_coords = swap(coords)\n",
    "print(swapped_coords)\n",
    "\n"
   ]
  },
  {
   "cell_type": "code",
   "execution_count": 8,
   "id": "29060938-0443-4859-9968-454cdc11fb07",
   "metadata": {
    "scrolled": true
   },
   "outputs": [
    {
     "name": "stdout",
     "output_type": "stream",
     "text": [
      "Note: you may need to restart the kernel to use updated packages.Collecting matplotlib\n",
      "  Downloading matplotlib-3.10.1-cp312-cp312-win_amd64.whl.metadata (11 kB)\n",
      "Collecting contourpy>=1.0.1 (from matplotlib)\n",
      "  Downloading contourpy-1.3.1-cp312-cp312-win_amd64.whl.metadata (5.4 kB)\n",
      "Collecting cycler>=0.10 (from matplotlib)\n",
      "  Downloading cycler-0.12.1-py3-none-any.whl.metadata (3.8 kB)\n",
      "Collecting fonttools>=4.22.0 (from matplotlib)\n",
      "  Downloading fonttools-4.56.0-cp312-cp312-win_amd64.whl.metadata (103 kB)\n",
      "Collecting kiwisolver>=1.3.1 (from matplotlib)\n",
      "  Downloading kiwisolver-1.4.8-cp312-cp312-win_amd64.whl.metadata (6.3 kB)\n",
      "Requirement already satisfied: numpy>=1.23 in c:\\users\\abdul\\anaconda3\\envs\\nhl\\lib\\site-packages (from matplotlib) (2.2.3)\n",
      "Requirement already satisfied: packaging>=20.0 in c:\\users\\abdul\\anaconda3\\envs\\nhl\\lib\\site-packages (from matplotlib) (24.2)\n",
      "Requirement already satisfied: pillow>=8 in c:\\users\\abdul\\anaconda3\\envs\\nhl\\lib\\site-packages (from matplotlib) (11.1.0)\n",
      "Collecting pyparsing>=2.3.1 (from matplotlib)\n",
      "  Downloading pyparsing-3.2.1-py3-none-any.whl.metadata (5.0 kB)\n",
      "Requirement already satisfied: python-dateutil>=2.7 in c:\\users\\abdul\\anaconda3\\envs\\nhl\\lib\\site-packages (from matplotlib) (2.9.0.post0)\n",
      "Requirement already satisfied: six>=1.5 in c:\\users\\abdul\\anaconda3\\envs\\nhl\\lib\\site-packages (from python-dateutil>=2.7->matplotlib) (1.16.0)\n",
      "Downloading matplotlib-3.10.1-cp312-cp312-win_amd64.whl (8.1 MB)\n",
      "   ---------------------------------------- 0.0/8.1 MB ? eta -:--:--\n",
      "   -- ------------------------------------- 0.5/8.1 MB 2.8 MB/s eta 0:00:03\n",
      "   ----- ---------------------------------- 1.0/8.1 MB 2.5 MB/s eta 0:00:03\n",
      "   ------- -------------------------------- 1.6/8.1 MB 2.5 MB/s eta 0:00:03\n",
      "   --------- ------------------------------ 1.8/8.1 MB 2.6 MB/s eta 0:00:03\n",
      "   ----------- ---------------------------- 2.4/8.1 MB 2.5 MB/s eta 0:00:03\n",
      "   --------------- ------------------------ 3.1/8.1 MB 2.6 MB/s eta 0:00:02\n",
      "   ---------------- ----------------------- 3.4/8.1 MB 2.5 MB/s eta 0:00:02\n",
      "   ------------------- -------------------- 3.9/8.1 MB 2.6 MB/s eta 0:00:02\n",
      "   ---------------------- ----------------- 4.5/8.1 MB 2.5 MB/s eta 0:00:02\n",
      "   ------------------------ --------------- 5.0/8.1 MB 2.5 MB/s eta 0:00:02\n",
      "   --------------------------- ------------ 5.5/8.1 MB 2.5 MB/s eta 0:00:02\n",
      "   ----------------------------- ---------- 6.0/8.1 MB 2.5 MB/s eta 0:00:01\n",
      "   -------------------------------- ------- 6.6/8.1 MB 2.5 MB/s eta 0:00:01\n",
      "   ----------------------------------- ---- 7.1/8.1 MB 2.5 MB/s eta 0:00:01\n",
      "   ------------------------------------- -- 7.6/8.1 MB 2.5 MB/s eta 0:00:01\n",
      "   ---------------------------------------  7.9/8.1 MB 2.5 MB/s eta 0:00:01\n",
      "   ---------------------------------------  7.9/8.1 MB 2.5 MB/s eta 0:00:01\n",
      "   ---------------------------------------  7.9/8.1 MB 2.5 MB/s eta 0:00:01\n",
      "   ---------------------------------------  7.9/8.1 MB 2.5 MB/s eta 0:00:01\n",
      "   ---------------------------------------  7.9/8.1 MB 2.5 MB/s eta 0:00:01\n",
      "   ---------------------------------------  7.9/8.1 MB 2.5 MB/s eta 0:00:01\n",
      "   ---------------------------------------  7.9/8.1 MB 2.5 MB/s eta 0:00:01\n",
      "   ---------------------------------------- 8.1/8.1 MB 1.7 MB/s eta 0:00:00\n",
      "Downloading contourpy-1.3.1-cp312-cp312-win_amd64.whl (220 kB)\n",
      "Downloading cycler-0.12.1-py3-none-any.whl (8.3 kB)\n",
      "Downloading fonttools-4.56.0-cp312-cp312-win_amd64.whl (2.2 MB)\n",
      "   ---------------------------------------- 0.0/2.2 MB ? eta -:--:--\n",
      "   --------- ------------------------------ 0.5/2.2 MB 2.4 MB/s eta 0:00:01\n",
      "   --------- ------------------------------ 0.5/2.2 MB 2.4 MB/s eta 0:00:01\n",
      "   ----------------------- ---------------- 1.3/2.2 MB 2.1 MB/s eta 0:00:01\n",
      "   --------------------------------- ------ 1.8/2.2 MB 2.2 MB/s eta 0:00:01\n",
      "   -------------------------------------- - 2.1/2.2 MB 2.3 MB/s eta 0:00:01\n",
      "   -------------------------------------- - 2.1/2.2 MB 2.3 MB/s eta 0:00:01\n",
      "   ---------------------------------------- 2.2/2.2 MB 1.5 MB/s eta 0:00:00\n",
      "Downloading kiwisolver-1.4.8-cp312-cp312-win_amd64.whl (71 kB)\n",
      "Downloading pyparsing-3.2.1-py3-none-any.whl (107 kB)\n",
      "Installing collected packages: pyparsing, kiwisolver, fonttools, cycler, contourpy, matplotlib\n",
      "Successfully installed contourpy-1.3.1 cycler-0.12.1 fonttools-4.56.0 kiwisolver-1.4.8 matplotlib-3.10.1 pyparsing-3.2.1\n",
      "\n"
     ]
    }
   ],
   "source": [
    "pip install matplotlib\n"
   ]
  },
  {
   "cell_type": "code",
   "execution_count": 9,
   "id": "545bddf5-a2d6-4013-84c8-d31143076e38",
   "metadata": {},
   "outputs": [
    {
     "name": "stdout",
     "output_type": "stream",
     "text": [
      "Matplotlib installed successfully!\n"
     ]
    }
   ],
   "source": [
    "import matplotlib.pyplot as plt\n",
    "print(\"Matplotlib installed successfully!\")\n"
   ]
  },
  {
   "cell_type": "code",
   "execution_count": 14,
   "id": "ba113ebf-3647-4e7e-8f59-651569831c58",
   "metadata": {
    "scrolled": true
   },
   "outputs": [
    {
     "name": "stdout",
     "output_type": "stream",
     "text": [
      "Collecting pandas\n",
      "  Downloading pandas-2.2.3-cp312-cp312-win_amd64.whl.metadata (19 kB)\n",
      "Requirement already satisfied: numpy>=1.26.0 in c:\\users\\abdul\\anaconda3\\envs\\nhl\\lib\\site-packages (from pandas) (2.2.3)\n",
      "Requirement already satisfied: python-dateutil>=2.8.2 in c:\\users\\abdul\\anaconda3\\envs\\nhl\\lib\\site-packages (from pandas) (2.9.0.post0)\n",
      "Collecting pytz>=2020.1 (from pandas)\n",
      "  Downloading pytz-2025.1-py2.py3-none-any.whl.metadata (22 kB)\n",
      "Collecting tzdata>=2022.7 (from pandas)\n",
      "  Downloading tzdata-2025.1-py2.py3-none-any.whl.metadata (1.4 kB)\n",
      "Requirement already satisfied: six>=1.5 in c:\\users\\abdul\\anaconda3\\envs\\nhl\\lib\\site-packages (from python-dateutil>=2.8.2->pandas) (1.16.0)\n",
      "Downloading pandas-2.2.3-cp312-cp312-win_amd64.whl (11.5 MB)\n",
      "   ---------------------------------------- 0.0/11.5 MB ? eta -:--:--\n",
      "    --------------------------------------- 0.3/11.5 MB ? eta -:--:--\n",
      "   -- ------------------------------------- 0.8/11.5 MB 2.8 MB/s eta 0:00:04\n",
      "   ---- ----------------------------------- 1.3/11.5 MB 2.4 MB/s eta 0:00:05\n",
      "   ------ --------------------------------- 1.8/11.5 MB 2.7 MB/s eta 0:00:04\n",
      "   ------- -------------------------------- 2.1/11.5 MB 2.7 MB/s eta 0:00:04\n",
      "   ---------- ----------------------------- 2.9/11.5 MB 2.6 MB/s eta 0:00:04\n",
      "   ----------- ---------------------------- 3.4/11.5 MB 2.6 MB/s eta 0:00:04\n",
      "   ------------- -------------------------- 3.9/11.5 MB 2.6 MB/s eta 0:00:03\n",
      "   --------------- ------------------------ 4.5/11.5 MB 2.6 MB/s eta 0:00:03\n",
      "   ----------------- ---------------------- 5.0/11.5 MB 2.6 MB/s eta 0:00:03\n",
      "   -------------------- ------------------- 5.8/11.5 MB 2.6 MB/s eta 0:00:03\n",
      "   --------------------- ------------------ 6.3/11.5 MB 2.6 MB/s eta 0:00:02\n",
      "   ----------------------- ---------------- 6.8/11.5 MB 2.6 MB/s eta 0:00:02\n",
      "   ------------------------- -------------- 7.3/11.5 MB 2.6 MB/s eta 0:00:02\n",
      "   --------------------------- ------------ 7.9/11.5 MB 2.6 MB/s eta 0:00:02\n",
      "   ----------------------------- ---------- 8.4/11.5 MB 2.6 MB/s eta 0:00:02\n",
      "   ------------------------------ --------- 8.9/11.5 MB 2.6 MB/s eta 0:00:01\n",
      "   -------------------------------- ------- 9.4/11.5 MB 2.6 MB/s eta 0:00:01\n",
      "   ---------------------------------- ----- 10.0/11.5 MB 2.6 MB/s eta 0:00:01\n",
      "   ------------------------------------ --- 10.5/11.5 MB 2.6 MB/s eta 0:00:01\n",
      "   -------------------------------------- - 11.0/11.5 MB 2.6 MB/s eta 0:00:01\n",
      "   ---------------------------------------  11.3/11.5 MB 2.6 MB/s eta 0:00:01\n",
      "   ---------------------------------------- 11.5/11.5 MB 2.5 MB/s eta 0:00:00\n",
      "Downloading pytz-2025.1-py2.py3-none-any.whl (507 kB)\n",
      "Downloading tzdata-2025.1-py2.py3-none-any.whl (346 kB)\n",
      "Installing collected packages: pytz, tzdata, pandas\n",
      "Successfully installed pandas-2.2.3 pytz-2025.1 tzdata-2025.1\n",
      "Note: you may need to restart the kernel to use updated packages.\n"
     ]
    }
   ],
   "source": [
    "pip install pandas"
   ]
  },
  {
   "cell_type": "code",
   "execution_count": 15,
   "id": "3e2c8657-596c-402b-a533-0c4886c04ff8",
   "metadata": {},
   "outputs": [
    {
     "name": "stdout",
     "output_type": "stream",
     "text": [
      "Pandas installed successfully!\n"
     ]
    }
   ],
   "source": [
    "import pandas as pd\n",
    "print(\"Pandas installed successfully!\")"
   ]
  },
  {
   "cell_type": "code",
   "execution_count": 16,
   "id": "bc11a1ba-f928-4c22-bc6c-fe15578cfb5c",
   "metadata": {},
   "outputs": [
    {
     "data": {
      "image/png": "[encoded data removed]",
      "text/plain": [
       "<Figure size 800x600 with 1 Axes>"
      ]
     },
     "metadata": {},
     "output_type": "display_data"
    }
   ],
   "source": [
    "\"\"\"Explanation 3: \n",
    "\n",
    "1. What’s Wrong with the Plot?\n",
    "The precision-recall curve is plotted incorrectly. The plotted points do not match the expected values from the CSV file.\n",
    "\n",
    "2. Possible Bugs:\n",
    "Precision and Recall Might Be Swapped\n",
    "\n",
    "Precision is supposed to be on the x-axis and recall on the y-axis.\n",
    "If they are plotted incorrectly (plt.plot(recall, precision) instead of plt.plot(precision, recall)), the graph will be wrong.\n",
    "Data Might Be Read Incorrectly\n",
    "\n",
    "If the CSV file is not properly parsed, precision and recall values might be incorrectly assigned.\n",
    "Plot Formatting Issues\n",
    "\n",
    "If labels, axes, or markers are missing, the visualization may not be clear.\n",
    "\"\"\"\n",
    "import csv\n",
    "import pandas as pd\n",
    "import matplotlib.pyplot as plt\n",
    "\n",
    "def plot_data(csv_file_path):\n",
    "    df = pd.read_csv(csv_file_path)\n",
    "    \n",
    "    if 'precision' not in df.columns or 'recall' not in df.columns:\n",
    "        raise ValueError(\"CSV file must contain 'precision' and 'recall' columns\")\n",
    "\n",
    "    precision = df['precision']\n",
    "    recall = df['recall']\n",
    "\n",
    "    plt.figure(figsize=(8, 6))\n",
    "    plt.plot(precision, recall, marker='o', linestyle='-', color='b', label=\"Precision-Recall Curve\")\n",
    "\n",
    "    plt.xlabel(\"Precision\")\n",
    "    plt.ylabel(\"Recall\")\n",
    "    plt.title(\"Precision-Recall Curve\")\n",
    "    plt.legend()\n",
    "    plt.grid(True)\n",
    "    plt.show()\n",
    "\n",
    "\n",
    "csv_file = \"data_file.csv\"\n",
    "with open(csv_file, \"w\", newline=\"\") as f:\n",
    "    w = csv.writer(f)\n",
    "    w.writerow([\"precision\", \"recall\"])  \n",
    "    w.writerows([\n",
    "        [0.013, 0.951],\n",
    "        [0.376, 0.851],\n",
    "        [0.441, 0.839],\n",
    "        [0.570, 0.758],\n",
    "        [0.635, 0.674],\n",
    "        [0.721, 0.604],\n",
    "        [0.837, 0.531],\n",
    "        [0.860, 0.453],\n",
    "        [0.962, 0.348],\n",
    "        [0.982, 0.273],\n",
    "        [1.000, 0.000]\n",
    "    ])\n",
    "plot_data(csv_file)"
   ]
  },
  {
   "cell_type": "code",
   "execution_count": 17,
   "id": "fa06fb11-5725-4a2f-ae91-4141f6ba3d58",
   "metadata": {},
   "outputs": [],
   "source": [
    "\"\"\" Explanation 4:\n",
    "\n",
    "Why Does This Happen?\n",
    "The batch size controls how many samples are passed through the network in one training step.\n",
    "GANs use both real and fake images in each step:\n",
    "Real images come from the dataset.\n",
    "Fake images are generated by the Generator.\n",
    "Somewhere in the training loop, the number of real and fake images doesn’t match.\n",
    "Most likely, the real batch size isn’t properly adjusted after changing the batch_size\n",
    "\n",
    "How to Fix It?\n",
    "Look for where the discriminator is trained:\n",
    "\n",
    "real_labels = torch.ones(batch_size, 1)  # Target labels for real images\n",
    "fake_labels = torch.zeros(batch_size, 1) # Target labels for fake images\n",
    "\n",
    "If batch_size = 64, but somewhere less/more data is used, e.g.:\n",
    "\n",
    "output = discriminator(fake_images)  # If fake_images batch size ≠ real_labels batch size, error occurs!\n",
    "Fix this by ensuring real and fake image batches match the batch size exactly.\n",
    "\n",
    "Cosmetic Bug\n",
    "A cosmetic bug is a minor issue that doesn’t break the code but affects readability, visualization, or clarity.\n",
    "\"\"\"\n",
    "import torch\n",
    "import torch.nn as nn\n",
    "import torch.optim as optim\n",
    "import torchvision\n",
    "import torchvision.transforms as transforms\n",
    "import matplotlib.pyplot as plt\n",
    "from IPython.display import display, clear_output\n",
    "import time\n",
    "\n",
    "def train_gan(batch_size: int = 32, num_epochs: int = 100, device: str = \"cuda:0\" if torch.cuda.is_available() else \"cpu\"):\n",
    "\n",
    "    transform = transforms.Compose([transforms.ToTensor(), transforms.Normalize((0.5,), (0.5,))])\n",
    "    train_set = torchvision.datasets.MNIST(root=\".\", train=True, download=True, transform=transform)\n",
    "    train_loader = torch.utils.data.DataLoader(train_set, batch_size=batch_size, shuffle=True)\n",
    "\n",
    "    discriminator = Discriminator().to(device)\n",
    "    generator = Generator().to(device)\n",
    "    loss_function = nn.BCELoss()\n",
    "    optimizer_discriminator = optim.Adam(discriminator.parameters(), lr=0.0001)\n",
    "    optimizer_generator = optim.Adam(generator.parameters(), lr=0.0001)\n",
    "\n",
    "    for epoch in range(num_epochs):\n",
    "        for n, (real_samples, _) in enumerate(train_loader):\n",
    "            real_batch_size = real_samples.shape[0] \n",
    "            real_samples = real_samples.to(device)\n",
    "            real_samples_labels = torch.ones((real_batch_size, 1)).to(device)\n",
    "\n",
    "            latent_space_samples = torch.randn((real_batch_size, 100)).to(device)\n",
    "            generated_samples = generator(latent_space_samples)\n",
    "            generated_samples_labels = torch.zeros((real_batch_size, 1)).to(device)\n",
    "\n",
    "            all_samples = torch.cat((real_samples, generated_samples))\n",
    "            all_samples_labels = torch.cat((real_samples_labels, generated_samples_labels))\n",
    "\n",
    "            discriminator.zero_grad()\n",
    "            output_discriminator = discriminator(all_samples)\n",
    "            loss_discriminator = loss_function(output_discriminator, all_samples_labels)\n",
    "            loss_discriminator.backward()\n",
    "            optimizer_discriminator.step()\n",
    "\n",
    "            generator.zero_grad()\n",
    "            latent_space_samples = torch.randn((real_batch_size, 100)).to(device)\n",
    "            generated_samples = generator(latent_space_samples)\n",
    "            output_discriminator_generated = discriminator(generated_samples)\n",
    "            loss_generator = loss_function(output_discriminator_generated, real_samples_labels)\n",
    "            loss_generator.backward()\n",
    "            optimizer_generator.step()\n",
    "        if epoch % 10 == 0:  \n",
    "            generated_samples = generated_samples.detach().cpu().numpy()\n",
    "            generated_samples = (generated_samples + 1) / 2  \n",
    "\n",
    "            fig, axes = plt.subplots(4, 4, figsize=(6, 6))\n",
    "            for i, ax in enumerate(axes.flat):\n",
    "                ax.imshow(generated_samples[i].reshape(28, 28), cmap=\"gray_r\")\n",
    "                ax.axis(\"off\")\n",
    "\n",
    "            fig.suptitle(f\"Epoch {epoch}: D Loss = {loss_discriminator:.4f}, G Loss = {loss_generator:.4f}\")\n",
    "            clear_output(wait=True)\n",
    "            display(fig)\n",
    "            time.sleep(1) "
   ]
  },
  {
   "cell_type": "code",
   "execution_count": null,
   "id": "4c686f4e-4505-4069-946d-096a7672ce09",
   "metadata": {},
   "outputs": [],
   "source": []
  }
 ],
 "metadata": {
  "kernelspec": {
   "display_name": "Python 3 (ipykernel)",
   "language": "python",
   "name": "python3"
  },
  "language_info": {
   "codemirror_mode": {
    "name": "ipython",
    "version": 3
   },
   "file_extension": ".py",
   "mimetype": "text/x-python",
   "name": "python",
   "nbconvert_exporter": "python",
   "pygments_lexer": "ipython3",
   "version": "3.12.9"
  }
 },
 "nbformat": 4,
 "nbformat_minor": 5
}
